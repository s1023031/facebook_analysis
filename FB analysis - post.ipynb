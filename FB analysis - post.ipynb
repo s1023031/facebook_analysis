{
    "cells": [
        {
            "cell_type": "markdown", 
            "source": "# \u722c\u53d6Facebook\u7c89\u7d72\u5c08\u9801\u8cc7\u6599 \u7b2c\u4e00\u7bc7 - \u7372\u53d6\u7c89\u7d72\u5c08\u9801\u7684\u8cc7\u6599(post)\n\n### \u900f\u904eFacebook Graph API\u53bb\u6293\u53d6\u7c89\u7d72\u5c08\u9801\u7684\u8cc7\u6599\uff0c\u4f46\u662f\u4f7f\u7528Facebook Graph API\u9700\u8981token(\u6b0a\u6756)\n### \u6211\u5011\u900f\u904e\u5efa\u7acbFacebook App\u7684\u61c9\u7528\u7a0b\u5f0f\uff0c\u4e26\u4f7f\u7528\u8a72\u61c9\u7528\u7a0b\u5f0f\u7684\u5e33\u865f(APP ID)\u548c\u5bc6\u78bc(APP Secret)\u7576\u4f5c\u6b0a\u9650\n\n[[\u8aaa\u660e]Graph API\u662f\u4ec0\u9ebc\u6771\u6771\uff1f](http://www.tonylin.idv.tw/dokuwiki/doku.php/facebook:basic:graphapi)", 
            "metadata": {
                "collapsed": true
            }
        }, 
        {
            "cell_type": "markdown", 
            "source": "![Imgur](https://i.imgur.com/PkpTIlC.png)\n![Imgur](https://i.imgur.com/6Uhz2ds.png)\n![Imgur](https://i.imgur.com/d02QeHz.png)", 
            "metadata": {}
        }, 
        {
            "cell_type": "code", 
            "outputs": [], 
            "execution_count": null, 
            "metadata": {
                "collapsed": true
            }, 
            "source": "#\u8f09\u5165\u51fd\u5f0f\u5eab\nimport json\nimport datetime\nimport csv\nimport time\ntry:\n    from urllib.request import urlopen, Request\nexcept ImportError:\n    from urllib2 import urlopen, Request"
        }, 
        {
            "cell_type": "markdown", 
            "source": "## \u4f7f\u7528\u4e0a\u9762\u53d6\u5f97\u7684APP ID\u548cApp Secret\u4f5c\u70ba\u6b0a\u6756\uff08token\uff09", 
            "metadata": {}
        }, 
        {
            "cell_type": "code", 
            "outputs": [], 
            "execution_count": null, 
            "metadata": {
                "collapsed": true
            }, 
            "source": "app_id = \"\"\napp_secret = \"\"  # DO NOT SHARE WITH ANYONE!\n\naccess_token = app_id + \"|\" + app_secret"
        }, 
        {
            "cell_type": "markdown", 
            "source": "## \u7372\u53d6\u7c89\u7d72\u5c08\u9801\u7684ID\n\n![Imgur](https://i.imgur.com/3C9Gu9R.png)", 
            "metadata": {}
        }, 
        {
            "cell_type": "markdown", 
            "source": "## \u56e0\u70ba\u8981\u5206\u6790\u7684\u7c89\u7d72\u5c08\u9801\u4e0d\u6b62\u4e00\u500b\uff0c\u6240\u4ee5\u628a\u8981\u5206\u6790\u7684\u7c89\u7d72\u5c08\u9801\u7684ID\u4ee5list\u7684\u5f62\u614b\u5b58\u9032page_id", 
            "metadata": {}
        }, 
        {
            "cell_type": "code", 
            "outputs": [], 
            "execution_count": null, 
            "metadata": {
                "collapsed": true
            }, 
            "source": "page_id = [\"appledaily.tw\",\"tsaiingwen\",\"MaYingjeou\",\"starbuckstaiwan\",\"duncanlindesign\",\"jay\",\"ashin555\",\"YahooTWNews\",\"ETtoday\",\"news.ebc\"]"
        }, 
        {
            "cell_type": "markdown", 
            "source": "## \u53ef\u8a2d\u5b9a\u722c\u53d6\u8cc7\u6599\u7684\u65e5\u671f\n## \u5982\u679c\u6c92\u8f38\u5165\u5247\u662f\u5f9e\u7c89\u7d72\u5c08\u9801\u6700\u958b\u59cb\u7684\u65e5\u671f\u722c\u81f3\u76ee\u524d\u7684\u65e5\u671f", 
            "metadata": {}
        }, 
        {
            "cell_type": "code", 
            "outputs": [], 
            "execution_count": null, 
            "metadata": {
                "collapsed": true
            }, 
            "source": "#\u958b\u59cb\u7684\u65e5\u671f\nsince_date = \"\" \n\n#\u7d50\u675f\u7684\u65e5\u671f\nuntil_date = \"\""
        }, 
        {
            "cell_type": "markdown", 
            "source": "## \u7a0b\u5f0f\u4e3b\u8981\u75316\u500b\u51fd\u5f0f\u7d44\u6210\n\nrequest_until_succeed(url)\n\u78ba\u4fdd\u722c\u53d6\u8cc7\u6599\u76f4\u5230\u6210\u529f\n    \nunicode_decode(text)\n\u5c07\u6293\u53d6\u7684\u6587\u5b57decode\u518d\u5132\u5b58\n    \ngetFacebookPageFeedUrl(base_url)\n\u5b9a\u7fa9\u8981\u5f9e\u7c89\u7d72\u5c08\u9801\u53d6\u5f97\u7684\u6b04\u4f4d\n    \ngetReactionsForStatuses(base_url):\n\u53d6\u5f97\u8cbc\u6587\uff08Post\uff09\u7684\u53cd\u61c9\u6578\uff08like,love...)\n    \nprocessFacebookPageFeedStatus(status)\n\u53d6\u5f97\u7c89\u7d72\u5c08\u9801\u7684\u8cc7\u6599\u4e26\u4e14\u7d50\u69cb\u5316\n\nscrapeFacebookPageFeedStatus(page_id, access_token, since_date, until_date)\n\u70ba\u4e3b\u7a0b\u5f0f\uff0c\u88e1\u9762\u6703\u547c\u53eb\u5176\u4ed6function\u4f86\u5b8c\u6210\u722c\u87f2\u52d5\u4f5c", 
            "metadata": {}
        }, 
        {
            "cell_type": "markdown", 
            "source": "## \u722c\u53d6\u8cc7\u6599\u7684\u57fa\u672c\u6982\u5ff5\u662f\u7531\u4f7f\u7528\u8005\u767c\u9001request\u900f\u904eFacebook Graph API\u4f86\u53d6\u5f97\u8cc7\u6599\n### \u4f46\u662f\u722c\u53d6\u8cc7\u6599\u91cf\u592a\u5927\u7684\u7c89\u7d72\u5c08\u9801\u7684\u6642\u5019\uff0c\u5f88\u6709\u53ef\u80fd\u767c\u9001\u7684request\u592a\u591a\u4e86\u800c\u767c\u751f\u932f\u8aa4\n### \u56e0\u6b64\u4f7f\u7528\u4e86While\u8ff4\u5708\uff0c\u767c\u751f\u932f\u8aa4\u5c31\u4f11\u606f5\u79d2\uff0c5\u79d2\u5f8c\u518d\u91cd\u65b0\u767c\u9001request\n", 
            "metadata": {}
        }, 
        {
            "cell_type": "code", 
            "outputs": [], 
            "execution_count": null, 
            "metadata": {
                "collapsed": true
            }, 
            "source": "def request_until_succeed(url):\n    req = Request(url)\n    success = False\n    while success is False:\n        try:\n            response = urlopen(req)\n            if response.getcode() == 200:\n                success = True\n        except Exception as e:\n            print(e)\n            time.sleep(5)\n\n            print(\"Error for URL {}: {}\".format(url, datetime.datetime.now()))\n            print(\"Retrying.\")\n\n    return response.read().decode('utf8')"
        }, 
        {
            "cell_type": "markdown", 
            "source": "## \u53d6\u5f97\u7684\u6587\u5b57\u5982\u679c\u4e0d\u7d93\u904e\u8655\u7406\u6703\u4ee5\u4e82\u78bc\u5132\u5b58\uff0c\u6240\u4ee5\u8981\u7d93\u904eencode\u548cdecode\u4e4b\u5f8c\u8f49\u6210\u6b63\u5e38\u7684\u6587\u5b57", 
            "metadata": {}
        }, 
        {
            "cell_type": "code", 
            "outputs": [], 
            "execution_count": null, 
            "metadata": {
                "collapsed": true
            }, 
            "source": "# Needed to write tricky unicode correctly to csv\ndef unicode_decode(text):\n    try:\n        return text.encode('utf-8').decode()\n    except UnicodeDecodeError:\n        return text.encode('utf-8')"
        }, 
        {
            "cell_type": "markdown", 
            "source": "## fields\u662f\u8981\u53d6\u5f97\u7684\u8cc7\u6599\u7684\u7a2e\u985e", 
            "metadata": {}
        }, 
        {
            "cell_type": "code", 
            "outputs": [], 
            "execution_count": null, 
            "metadata": {
                "collapsed": true
            }, 
            "source": "def getFacebookPageFeedUrl(base_url):\n\n    fields = \"&fields=message,link,created_time,type,name,id,\" + \\\n        \"comments.limit(0).summary(true),shares,reactions\" + \\\n        \".limit(0).summary(true)\"\n\n    return base_url + fields"
        }, 
        {
            "cell_type": "markdown", 
            "source": "## \u53d6\u5f97\u8cbc\u6587\u7684\u53cd\u61c9\u6578\u91cf(angry,like,love,sad,wow,haha\u500b\u5225\u7684\u6578\u91cf)", 
            "metadata": {}
        }, 
        {
            "cell_type": "code", 
            "outputs": [], 
            "execution_count": null, 
            "metadata": {
                "collapsed": true
            }, 
            "source": "def getReactionsForStatuses(base_url):\n\n    reaction_types = ['like', 'love', 'wow', 'haha', 'sad', 'angry']\n    reactions_dict = {}\n    \n    for reaction_type in reaction_types:\n        fields = \"&fields=reactions.type({}).limit(0).summary(total_count)\".format(\n            reaction_type.upper())\n\n        url = base_url + fields\n\n        data = json.loads(request_until_succeed(url))['data']\n\n        data_processed = set()\n        for status in data:\n            id = status['id']\n            count = status['reactions']['summary']['total_count']\n            data_processed.add((id, count))\n\n        for id, count in data_processed:\n            if id in reactions_dict:\n                reactions_dict[id] = reactions_dict[id] + (count,)\n            else:\n                reactions_dict[id] = (count,)\n\n    return reactions_dict\n"
        }, 
        {
            "cell_type": "markdown", 
            "source": "## \u8655\u7406\u53d6\u5f97\u8cc7\u6599\u4e26\u5c07\u8cc7\u6599\u7d50\u69cb\u5316", 
            "metadata": {}
        }, 
        {
            "cell_type": "code", 
            "outputs": [], 
            "execution_count": null, 
            "metadata": {
                "collapsed": true
            }, 
            "source": "def processFacebookPageFeedStatus(status):\n\n    status_id = status['id']\n    status_type = status['type']\n\n    status_message = '' if 'message' not in status else \\\n        unicode_decode(status['message'])\n    link_name = '' if 'name' not in status else \\\n        unicode_decode(status['name'])\n    status_link = '' if 'link' not in status else \\\n        unicode_decode(status['link'])\n\n    status_published = datetime.datetime.strptime(\n        status['created_time'], '%Y-%m-%dT%H:%M:%S+0000')\n    status_published = status_published + \\\n        datetime.timedelta(hours=8)  # \u53f0\u7063\u7684\u6642\u5340 +8\n    status_published = status_published.strftime(\n        '%Y-%m-%d %H:%M:%S')\n\n    num_reactions = 0 if 'reactions' not in status else \\\n        status['reactions']['summary']['total_count']\n    num_comments = 0 if 'comments' not in status else \\\n        status['comments']['summary']['total_count']\n    num_shares = 0 if 'shares' not in status else status['shares']['count']\n\n    return (status_id, status_message, link_name, status_type, status_link,\n            status_published, num_reactions, num_comments, num_shares)\n"
        }, 
        {
            "cell_type": "markdown", 
            "source": "## \u5c07\u53d6\u5f97\u7684\u8cc7\u6599\u5beb\u5165csv\u6a94\n## base : \u8a2d\u5b9afacebook API\u7684\u7248\u672c\uff0c\u6211\u5011\u4f7f\u7528\u7684\u662f2.9\n## node : \u8981\u5206\u6790\u54ea\u4e00\u500b\u7c89\u7d72\u5c08\u9801\n## parameters : \u6b0a\u9650\u8a2d\u5b9a\u548c\u6bcf\u6b21\u53d6\u591a\u5c11\u7b46\n## since : \u5f9e\u4ec0\u9ebc\u65e5\u671f\u958b\u59cb\u722c\u53d6\u8cc7\u6599\n## until : \u722c\u53d6\u8cc7\u6599\u81f3\u4ec0\u9ebc\u65e5\u671f", 
            "metadata": {}
        }, 
        {
            "cell_type": "code", 
            "outputs": [], 
            "execution_count": null, 
            "metadata": {
                "collapsed": true
            }, 
            "source": "def scrapeFacebookPageFeedStatus(page_id, access_token, since_date, until_date):\n    with open('{}_facebook_statuses.csv'.format(page_id), 'w' ,encoding='utf-8-sig') as file:\n        w = csv.writer(file)\n        w.writerow([\"status_id\", \"status_message\", \"link_name\", \"status_type\",\n                    \"status_link\", \"status_published\", \"num_reactions\",\n                    \"num_comments\", \"num_shares\", \"num_likes\", \"num_loves\",\n                    \"num_wows\", \"num_hahas\", \"num_sads\", \"num_angrys\",\n                    \"num_special\"])\n        has_next_page = True\n        num_processed = 0\n        scrape_starttime = datetime.datetime.now()\n        after = ''\n        base = \"https://graph.facebook.com/v2.9\"\n        node = \"/{}/posts\".format(page_id)\n        parameters = \"/?limit={}&access_token={}\".format(100, access_token)\n        since = \"&since={}\".format(since_date) if since_date \\\n            is not '' else ''\n        until = \"&until={}\".format(until_date) if until_date \\\n            is not '' else ''\n\n        print(\"Scraping {} Facebook Page: {}\\n\".format(page_id, scrape_starttime))\n\n        while has_next_page:\n            after = '' if after is '' else \"&after={}\".format(after)\n            base_url = base + node + parameters + after + since + until\n\n            url = getFacebookPageFeedUrl(base_url)\n            statuses = json.loads(request_until_succeed(url))\n            reactions = getReactionsForStatuses(base_url)\n\n            for status in statuses['data']:\n\n                if 'reactions' in status:\n                    status_data = processFacebookPageFeedStatus(status)\n                    reactions_data = reactions[status_data[0]]\n\n                    num_special = status_data[6] - sum(reactions_data)\n                    w.writerow(status_data + reactions_data + (num_special,))\n\n                #\u6bcf100\u7bc7\u5c31\u8f38\u51fa\u76ee\u524d\u6293\u4e86\u591a\u5c11\u7bc7\u8cbc\u6587\u53ca\u6642\u9593\n                num_processed += 1\n                if num_processed % 100 == 0:\n                    print(\"{} Statuses Processed: {}\".format\n                          (num_processed, datetime.datetime.now()))\n\n            if 'paging' in statuses:\n                after = statuses['paging']['cursors']['after']\n            else:\n                has_next_page = False\n\n        print(\"\\nDone!\\n{} Statuses Processed in {}\".format(\n              num_processed, datetime.datetime.now() - scrape_starttime))\n"
        }, 
        {
            "cell_type": "markdown", 
            "source": "## \u547c\u53eb\u4e3b\u7a0b\u5f0f\uff0c\u8dd1\u8ff4\u5708\u4f86\u5206\u5225\u5c0d\u7c89\u7d72\u5c08\u9801\u9032\u884c\u722c\u87f2\u7684\u52d5\u4f5c", 
            "metadata": {}
        }, 
        {
            "cell_type": "code", 
            "outputs": [], 
            "execution_count": null, 
            "metadata": {
                "collapsed": true
            }, 
            "source": "if __name__ == '__main__':\n    for filename in page_id:\n        scrapeFacebookPageFeedStatus(filename, access_token, since_date, until_date)"
        }, 
        {
            "cell_type": "markdown", 
            "source": "## \u6700\u5f8ccsv\u6a94\u6848\u7684\u8f38\u51fa\u7d50\u679c", 
            "metadata": {}
        }, 
        {
            "cell_type": "markdown", 
            "source": "<a href=\"https://ibb.co/gjMSW5\"><img src=\"https://preview.ibb.co/n2Sedk/fb_05.png\" alt=\"fb_05\" border=\"0\"></a>", 
            "metadata": {}
        }
    ], 
    "nbformat_minor": 1, 
    "metadata": {
        "kernelspec": {
            "language": "python", 
            "name": "python3-spark20", 
            "display_name": "Python 3.5 (Experimental) with Spark 2.0"
        }, 
        "language_info": {
            "version": "3.5.2", 
            "nbconvert_exporter": "python", 
            "mimetype": "text/x-python", 
            "name": "python", 
            "pygments_lexer": "ipython3", 
            "file_extension": ".py", 
            "codemirror_mode": {
                "version": 3, 
                "name": "ipython"
            }
        }
    }, 
    "nbformat": 4
}