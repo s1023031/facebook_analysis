{
 "cells": [
  {
   "cell_type": "markdown",
   "metadata": {
    "collapsed": true
   },
   "source": [
    "# 爬取Facebook粉絲專頁資料 第二篇 - 獲取粉絲專頁的留言者及評論\n",
    "\n",
    "### 透過Facebook Graph API去抓取粉絲專頁的資料，但是使用Facebook Graph API需要token(權杖)\n",
    "### 我們透過建立Facebook App的應用程式，並使用該應用程式的帳號(APP ID)和密碼(APP Secret)當作權限\n",
    "\n",
    "[說明]Graph API是什麼東東？http://www.tonylin.idv.tw/dokuwiki/doku.php/facebook:basic:graphapi"
   ]
  },
  {
   "attachments": {},
   "cell_type": "markdown",
   "metadata": {},
   "source": [
    "![Imgur](https://i.imgur.com/PkpTIlC.png)\n",
    "![Imgur](https://i.imgur.com/6Uhz2ds.png)\n",
    "![Imgur](https://i.imgur.com/d02QeHz.png)"
   ]
  },
  {
   "cell_type": "code",
   "execution_count": null,
   "metadata": {
    "collapsed": true
   },
   "outputs": [],
   "source": [
    "#載入python函式庫\n",
    "import json\n",
    "import datetime\n",
    "import csv\n",
    "import time\n",
    "import pymongo\n",
    "from pymongo import MongoClient\n",
    "try:\n",
    "    from urllib.request import urlopen, Request\n",
    "except ImportError:\n",
    "    from urllib2 import urlopen, Request"
   ]
  },
  {
   "cell_type": "markdown",
   "metadata": {},
   "source": [
    "## 首先連接至資料庫，並且打開建立好的資料表來存取資料"
   ]
  },
  {
   "cell_type": "code",
   "execution_count": null,
   "metadata": {
    "collapsed": true
   },
   "outputs": [],
   "source": [
    "client = MongoClient(\"140.120.13.242\",27017)\n",
    "print(client)\n",
    "\n",
    "db= client[\"FB_DB2\"]\n",
    "col=db[\"fansPage\"]"
   ]
  },
  {
   "cell_type": "markdown",
   "metadata": {},
   "source": [
    "## 使用上面取得的APP ID和App Secret作為權杖（token）\n"
   ]
  },
  {
   "cell_type": "code",
   "execution_count": null,
   "metadata": {
    "collapsed": true
   },
   "outputs": [],
   "source": [
    "app_id = \"\"\n",
    "app_secret = \"\"\n",
    "access_token = app_id + \"|\" + app_secret"
   ]
  },
  {
   "cell_type": "markdown",
   "metadata": {},
   "source": [
    "## 獲取粉絲專頁的ID"
   ]
  },
  {
   "attachments": {},
   "cell_type": "markdown",
   "metadata": {},
   "source": [
    "![Imgur](https://i.imgur.com/3C9Gu9R.png)"
   ]
  },
  {
   "cell_type": "markdown",
   "metadata": {},
   "source": [
    "## 因為要分析的粉絲專頁不止一個，所以把要分析的粉絲專頁的ID和相對應的粉絲專頁名稱放進list\n",
    "## 建立字典，key為粉絲專頁的ID，value為粉絲專頁的名稱"
   ]
  },
  {
   "cell_type": "code",
   "execution_count": null,
   "metadata": {
    "collapsed": true
   },
   "outputs": [],
   "source": [
    "file_id = [\"appledaily.tw\",\"tsaiingwen\",\"MaYingjeou\",\"starbuckstaiwan\",\"duncanlindesign\",\"jay\",\"ashin555\",\"YahooTWNews\",\"ETtoday\",\"news.ebc\"]\n",
    "file_name=[\"台灣蘋果日報\",\"蔡英文 Tsai Ing-wen\",\"馬英九\",\"統一星巴克咖啡同好會\",\"Duncan\",\"周杰倫 Jay Chou\",\"五月天 阿信\",\"Yahoo!奇摩新聞\",\"ETNEWS新聞雲\",\"東森新聞\"]\n",
    "\n",
    "dic=dict()\n",
    "for i in range(10):\n",
    "    dic[file_id[i]]=file_name[i]"
   ]
  },
  {
   "cell_type": "markdown",
   "metadata": {},
   "source": [
    "## 程式主要由5個function來完成\n",
    "\n",
    "request_until_succeed(url):\n",
    "來確保爬取成功\n",
    "\n",
    "getFacebookCommentFeedUrl(base_url):\n",
    "\n",
    "\n",
    "getReactionsForComments(base_url):\n",
    "取得留言所得到的反應（Like,Love....)\n",
    "\n",
    "processFacebookComment(comment, status_id, parent_id=''):\n",
    "\n",
    "\n",
    "scrapeFacebookPageFeedComments(page_id, access_token):\n",
    "主要程式，在裡面會呼叫以上function來進行爬取的動作"
   ]
  },
  {
   "cell_type": "markdown",
   "metadata": {
    "collapsed": true
   },
   "source": [
    "-------------------------------------------------------------------------"
   ]
  },
  {
   "cell_type": "markdown",
   "metadata": {},
   "source": [
    "## 確保能連線"
   ]
  },
  {
   "cell_type": "code",
   "execution_count": 1,
   "metadata": {
    "collapsed": true
   },
   "outputs": [],
   "source": [
    "def request_until_succeed(url):\n",
    "    req = Request(url)\n",
    "    success = False\n",
    "    count=0 # 不要讓他一直嘗試連線，會鬼撞牆，所以給他個參數\n",
    "    while success is False:\n",
    "        try:\n",
    "            response = urlopen(req)\n",
    "            if response.getcode() == 200:\n",
    "                success = True\n",
    "        except Exception as e:\n",
    "            print(e)\n",
    "            time.sleep(5)\n",
    "\n",
    "            print(\"Error for URL {}: {}\".format(url, datetime.datetime.now()))\n",
    "            print(\"Retrying.\")\n",
    "            if count==3: # 看你要讓她嘗試連線多少次\n",
    "                return None\n",
    "            else:\n",
    "                count+=1\n",
    "    return response.read().decode('utf8')"
   ]
  },
  {
   "cell_type": "markdown",
   "metadata": {},
   "source": [
    "--------"
   ]
  },
  {
   "cell_type": "markdown",
   "metadata": {},
   "source": [
    "## 調整編碼方式"
   ]
  },
  {
   "cell_type": "code",
   "execution_count": 2,
   "metadata": {
    "collapsed": true
   },
   "outputs": [],
   "source": [
    "def unicode_decode(text):\n",
    "    try:\n",
    "        return text.encode('utf-8').decode()\n",
    "    except UnicodeDecodeError:\n",
    "        return text.encode('utf-8')"
   ]
  },
  {
   "cell_type": "markdown",
   "metadata": {},
   "source": [
    "---------"
   ]
  },
  {
   "cell_type": "markdown",
   "metadata": {},
   "source": [
    "## 產生url string\n",
    "\n",
    "url = base_url + fields \n",
    "\n",
    "fields:你要取得資料欄位"
   ]
  },
  {
   "cell_type": "code",
   "execution_count": 3,
   "metadata": {
    "collapsed": true
   },
   "outputs": [],
   "source": [
    "def getFacebookCommentFeedUrl(base_url):\n",
    "\n",
    "    # Construct the URL string\n",
    "    fields = \"&fields=id,message,reactions.limit(0).summary(true)\" + \\\n",
    "        \",created_time,comments,from,attachment\"\n",
    "    url = base_url + fields\n",
    "\n",
    "    return url"
   ]
  },
  {
   "cell_type": "markdown",
   "metadata": {},
   "source": [
    "---------"
   ]
  },
  {
   "cell_type": "markdown",
   "metadata": {},
   "source": [
    "## 取得留言所得到的反應（Like,Love,Comment....)"
   ]
  },
  {
   "cell_type": "code",
   "execution_count": 4,
   "metadata": {
    "collapsed": true
   },
   "outputs": [],
   "source": [
    "def getReactionsForComments(base_url):\n",
    "\n",
    "    reaction_types = ['like', 'love', 'wow', 'haha', 'sad', 'angry']\n",
    "    reactions_dict = {}   # dict of {status_id: tuple<6>}\n",
    "\n",
    "    for reaction_type in reaction_types:\n",
    "        fields = \"&fields=reactions.type({}).limit(0).summary(total_count)\".format(\n",
    "            reaction_type.upper())\n",
    "\n",
    "        url = base_url + fields\n",
    "\n",
    "        data = json.loads(request_until_succeed(url))['data']\n",
    "\n",
    "        data_processed = set()  # set() removes rare duplicates in statuses\n",
    "        for status in data:\n",
    "            id = status['id']\n",
    "            count = status['reactions']['summary']['total_count']\n",
    "            data_processed.add((id, count))\n",
    "\n",
    "        for id, count in data_processed:\n",
    "            if id in reactions_dict:\n",
    "                reactions_dict[id] = reactions_dict[id] + (count,)\n",
    "            else:\n",
    "                reactions_dict[id] = (count,)\n",
    "\n",
    "    return reactions_dict"
   ]
  },
  {
   "cell_type": "markdown",
   "metadata": {},
   "source": [
    "-----------"
   ]
  },
  {
   "cell_type": "markdown",
   "metadata": {},
   "source": [
    "## 將所有留言結構化成Tuple型態，並回傳資料"
   ]
  },
  {
   "cell_type": "code",
   "execution_count": 5,
   "metadata": {
    "collapsed": true
   },
   "outputs": [],
   "source": [
    "def processFacebookComment(comment, status_id, parent_id=''):\n",
    "\n",
    "    # The status is now a Python dictionary, so for top-level items,\n",
    "    # we can simply call the key.\n",
    "\n",
    "    # Additionally, some items may not always exist,\n",
    "    # so must check for existence first\n",
    "\n",
    "     # 確認資料欄位是否有值,並做處理\n",
    "    comment_id = comment['id']\n",
    "    comment_message = '' if 'message' not in comment or comment['message'] \\\n",
    "        is '' else unicode_decode(comment['message'])\n",
    "    comment_author = unicode_decode(comment['from']['name'])\n",
    "    num_reactions = 0 if 'reactions' not in comment else \\\n",
    "        comment['reactions']['summary']['total_count']\n",
    "\n",
    "    if 'attachment' in comment:\n",
    "        attachment_type = comment['attachment']['type']\n",
    "        attachment_type = 'gif' if attachment_type == 'animated_image_share' \\\n",
    "            else attachment_type\n",
    "        attach_tag = \"[[{}]]\".format(attachment_type.upper())\n",
    "        comment_message = attach_tag if comment_message is '' else \\\n",
    "            comment_message + \" \" + attach_tag\n",
    "\n",
    "    # Time needs special care since a) it's in UTC and\n",
    "    # b) it's not easy to use in statistical programs.\n",
    "\n",
    "    comment_published = datetime.datetime.strptime(\n",
    "        comment['created_time'], '%Y-%m-%dT%H:%M:%S+0000')\n",
    "    # 設定台灣時區\n",
    "    comment_published = comment_published + datetime.timedelta(hours=8)   \n",
    "    comment_published = comment_published.strftime(\n",
    "        '%Y-%m-%d %H:%M:%S')  # best time format for spreadsheet programs\n",
    "\n",
    "    # Return a tuple of all processed data\n",
    "\n",
    "    return (comment_id, status_id, parent_id, comment_message, comment_author,\n",
    "            comment_published, num_reactions)"
   ]
  },
  {
   "cell_type": "markdown",
   "metadata": {},
   "source": [
    "-----------------------------------------------------------------"
   ]
  },
  {
   "cell_type": "markdown",
   "metadata": {},
   "source": [
    "## 主要程式，在裡面會呼叫以上function來進行爬取的動作\n",
    "## 並透過2層while迴圈來抓取所有留言的資料"
   ]
  },
  {
   "cell_type": "code",
   "execution_count": 6,
   "metadata": {
    "collapsed": true
   },
   "outputs": [],
   "source": [
    "def scrapeFacebookPageFeedComments(page_id, access_token):\n",
    "    # 讀取之前POST下來的CSV檔案\n",
    "    with open('{}_facebook_comments.csv'.format(page_id), 'w',encoding='utf-8-sig') as file:\n",
    "        w = csv.writer(file)\n",
    "        \n",
    "        # 寫入CSV檔案\n",
    "        w.writerow([\"comment_id\", \"status_id\", \"parent_id\", \"comment_message\",\n",
    "                    \"comment_author\", \"comment_published\", \"num_reactions\",\n",
    "                    \"num_likes\", \"num_loves\", \"num_wows\", \"num_hahas\",\n",
    "                    \"num_sads\", \"num_angrys\", \"num_special\"])\n",
    "\n",
    "        num_processed = 0 # 計算處理多少post\n",
    "        scrape_starttime = datetime.datetime.now()\n",
    "        after = ''\n",
    "        base = \"https://graph.facebook.com/v2.9\"\n",
    "        parameters = \"/?limit={}&access_token={}\".format(\n",
    "            100, access_token)\n",
    "\n",
    "        print(\"Scraping {} Comments From Posts: {}\\n\".format(\n",
    "            dic[page_id], scrape_starttime))\n",
    "\n",
    "        with open('{}_facebook_statuses.csv'.format(page_id), 'r',encoding='utf-8-sig') as csvfile:\n",
    "            reader = csv.DictReader(csvfile)\n",
    "\n",
    "            # Uncomment below line to scrape comments for a specific status_id\n",
    "            # reader = [dict(status_id='5550296508_10154352768246509')]\n",
    "\n",
    "            for status in reader:\n",
    "                has_next_page = True\n",
    "\n",
    "                while has_next_page:\n",
    "\n",
    "                    node = \"/{}/comments\".format(status['status_id'])\n",
    "                    after = '' if after is '' else \"&after={}\".format(after)\n",
    "                    base_url = base + node + parameters + after\n",
    "\n",
    "                    url = getFacebookCommentFeedUrl(base_url)\n",
    "                    # 如果URL Page無法回應，就讓他Drop，才不會讓程式整個卡住\n",
    "                    try:\n",
    "                        comments = json.loads(request_until_succeed(url))\n",
    "                        reactions = getReactionsForComments(base_url)\n",
    "                    except:\n",
    "                        has_next_page=False\n",
    "                        print(\"server 無法回應\")\n",
    "\n",
    "                    for comment in comments['data']:\n",
    "                        comment_data = processFacebookComment(\n",
    "                            comment, status['status_id'])\n",
    "                        # print(comment_data[0])\n",
    "                        reactions_data = reactions[comment_data[0]]\n",
    "                        # 留言的人 = comment_data[4]\n",
    "                        # 留言的人說了甚麼話 = comment_data[3]\n",
    "                        # 找有無此留言人，並存入資料庫\n",
    "                        cursor=col.find({\"name\":comment_data[4]})\n",
    "                        if cursor.count()>0:\n",
    "                            user_comment=[]\n",
    "                            for arr in cursor:\n",
    "                                try:\n",
    "                                    user_comment=arr[dic[page_id]]\n",
    "                                except:\n",
    "                                    user_comment = []\n",
    "                                break\n",
    "                            user_comment.append(comment_data[3])\n",
    "                            col.update({'name':comment_data[4]}, {\"$set\": {dic[page_id]: user_comment} }, upsert=True)\n",
    "                        else:\n",
    "                            user_comment=[]\n",
    "                            user_comment.append(comment_data[3])\n",
    "                            col.insert({\"name\":comment_data[4],dic[page_id]:user_comment})\n",
    "\n",
    "\n",
    "                        # calculate thankful/pride through algebra\n",
    "                        num_special = comment_data[6] - sum(reactions_data)\n",
    "                        w.writerow(comment_data + reactions_data +\n",
    "                                   (num_special, ))\n",
    "\n",
    "                        if 'comments' in comment:\n",
    "                            has_next_subpage = True\n",
    "                            sub_after = ''\n",
    "\n",
    "                            while has_next_subpage:\n",
    "                                sub_node = \"/{}/comments\".format(comment['id'])\n",
    "                                sub_after = '' if sub_after is '' else \"&after={}\".format(\n",
    "                                    sub_after)\n",
    "                                sub_base_url = base + sub_node + parameters + sub_after\n",
    "\n",
    "                                sub_url = getFacebookCommentFeedUrl(sub_base_url)\n",
    "                                try:\n",
    "                                    sub_comments = json.loads(request_until_succeed(sub_url))\n",
    "                                    sub_reactions = getReactionsForComments(sub_base_url)\n",
    "                                except:\n",
    "                                    has_next_subpage = True\n",
    "                                    print(\"server 無法回應(sub)\")\n",
    "\n",
    "                                for sub_comment in sub_comments['data']:\n",
    "                                    sub_comment_data = processFacebookComment(sub_comment, status['status_id'], comment['id'])\n",
    "                                    sub_reactions_data = sub_reactions[sub_comment_data[0]]\n",
    "                                    # 留言人底下的留言人 = sub_comment_data[4]\n",
    "                                    # 留言人底下的留言人之留言 = sub_comment_data[3]\n",
    "\n",
    "                                    num_sub_special = sub_comment_data[6] - sum(sub_reactions_data)\n",
    "                                    w.writerow(sub_comment_data +sub_reactions_data + (num_sub_special,))\n",
    "\n",
    "                                    num_processed += 1\n",
    "                                    if num_processed % 100 == 0:\n",
    "                                        print(\"{} Comments Processed: {}\".format(num_processed,datetime.datetime.now()))\n",
    "\n",
    "                                if 'paging' in sub_comments:\n",
    "                                    if 'next' in sub_comments['paging']:\n",
    "                                        sub_after = sub_comments['paging']['cursors']['after']\n",
    "                                    else:\n",
    "                                        has_next_subpage = False\n",
    "                                else:\n",
    "                                    has_next_subpage = False\n",
    "\n",
    "                        # output progress occasionally to make sure code is not\n",
    "                        # stalling\n",
    "                        num_processed += 1\n",
    "                        if num_processed % 100 == 0:\n",
    "                            print(\"{} Comments Processed: {}\".format(num_processed, datetime.datetime.now()))\n",
    "                    if 'paging' in comments:\n",
    "                        if 'next' in comments['paging']:\n",
    "                            after = comments['paging']['cursors']['after']\n",
    "                        else:\n",
    "                            has_next_page = False\n",
    "                    else:\n",
    "                        has_next_page = False\n",
    "\n",
    "        print(\"\\nDone!\\n{} Comments Processed in {}\".format(num_processed, datetime.datetime.now() - scrape_starttime))"
   ]
  },
  {
   "cell_type": "markdown",
   "metadata": {},
   "source": [
    "--------------------------"
   ]
  },
  {
   "cell_type": "markdown",
   "metadata": {},
   "source": [
    "## 進入主程式"
   ]
  },
  {
   "cell_type": "code",
   "execution_count": null,
   "metadata": {
    "collapsed": true
   },
   "outputs": [],
   "source": [
    "if __name__ == '__main__':\n",
    "    for file_name in file_id:\n",
    "        scrapeFacebookPageFeedComments(file_name, access_token)"
   ]
  },
  {
   "cell_type": "markdown",
   "metadata": {},
   "source": [
    "100 Comments Processed: 2017-09-21 16:48:19.520377 \n",
    "\n",
    "200 Comments Processed: 2017-09-21 16:48:32.247251 \n",
    "\n",
    "300 Comments Processed: 2017-09-21 16:48:49.736166 \n",
    "\n",
    "400 Comments Processed: 2017-09-21 16:49:07.349318 \n",
    "\n",
    "500 Comments Processed: 2017-09-21 16:49:14.678843 \n",
    "\n",
    "600 Comments Processed: 2017-09-21 16:49:21.920978 \n",
    "\n",
    "700 Comments Processed: 2017-09-21 16:49:30.839750 \n",
    "\n",
    "800 Comments Processed: 2017-09-21 16:49:36.122160 \n",
    "\n",
    "900 Comments Processed: 2017-09-21 16:49:42.785571 \n",
    "\n",
    "Done!"
   ]
  },
  {
   "cell_type": "markdown",
   "metadata": {},
   "source": [
    "## 最後會再產生一個所有留言的CSV檔案"
   ]
  }
 ],
 "metadata": {
  "kernelspec": {
   "display_name": "Python 3",
   "language": "python",
   "name": "python3"
  },
  "language_info": {
   "codemirror_mode": {
    "name": "ipython",
    "version": 3
   },
   "file_extension": ".py",
   "mimetype": "text/x-python",
   "name": "python",
   "nbconvert_exporter": "python",
   "pygments_lexer": "ipython3",
   "version": "3.6.1"
  }
 },
 "nbformat": 4,
 "nbformat_minor": 1
}
