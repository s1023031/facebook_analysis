{
    "nbformat_minor": 1, 
    "metadata": {
        "language_info": {
            "pygments_lexer": "ipython3", 
            "name": "python", 
            "file_extension": ".py", 
            "mimetype": "text/x-python", 
            "codemirror_mode": {
                "name": "ipython", 
                "version": 3
            }, 
            "nbconvert_exporter": "python", 
            "version": "3.5.2"
        }, 
        "kernelspec": {
            "language": "python", 
            "name": "python3-spark20", 
            "display_name": "Python 3.5 (Experimental) with Spark 2.0"
        }
    }, 
    "cells": [
        {
            "source": "testing 1 2 3\n", 
            "metadata": {
                "collapsed": true
            }, 
            "cell_type": "markdown"
        }
    ], 
    "nbformat": 4
}