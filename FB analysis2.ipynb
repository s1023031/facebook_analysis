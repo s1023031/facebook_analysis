{
    "nbformat_minor": 1, 
    "metadata": {
        "language_info": {
            "pygments_lexer": "ipython3", 
            "name": "python", 
            "file_extension": ".py", 
            "mimetype": "text/x-python", 
            "codemirror_mode": {
                "name": "ipython", 
                "version": 3
            }, 
            "nbconvert_exporter": "python", 
            "version": "3.5.2"
        }, 
        "kernelspec": {
            "language": "python", 
            "name": "python3-spark20", 
            "display_name": "Python 3.5 (Experimental) with Spark 2.0"
        }
    }, 
    "cells": [
        {
            "source": "# Facebook Analysis - \u6293\u53d6\u7c89\u7d72\u5c08\u9801", 
            "metadata": {
                "collapsed": true
            }, 
            "cell_type": "markdown"
        }, 
        {
            "execution_count": 1, 
            "source": "print(\"SUCCESSFULLY PUBLISH TO GITHUB\uff01Testing 3rd times!\")", 
            "outputs": [
                {
                    "name": "stdout", 
                    "output_type": "stream", 
                    "text": "SUCCESSFULLY PUBLISH TO GITHUB\n"
                }
            ], 
            "cell_type": "code", 
            "metadata": {}
        }, 
        {
            "execution_count": null, 
            "source": "", 
            "outputs": [], 
            "cell_type": "code", 
            "metadata": {
                "collapsed": true
            }
        }
    ], 
    "nbformat": 4
}