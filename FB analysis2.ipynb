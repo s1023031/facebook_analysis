{
    "cells": [
        {
            "cell_type": "markdown", 
            "source": "testing 1 2 3", 
            "metadata": {
                "collapsed": true
            }
        }, 
        {
            "cell_type": "code", 
            "outputs": [
                {
                    "output_type": "stream", 
                    "text": "SUCCESSFULLY PUBLISH TO GITHUB\n", 
                    "name": "stdout"
                }
            ], 
            "execution_count": 1, 
            "metadata": {}, 
            "source": "print(\"SUCCESSFULLY PUBLISH TO GITHUB\uff01Testing 3rd times!\")"
        }, 
        {
            "cell_type": "code", 
            "outputs": [], 
            "execution_count": null, 
            "metadata": {
                "collapsed": true
            }, 
            "source": ""
        }
    ], 
    "nbformat_minor": 1, 
    "metadata": {
        "kernelspec": {
            "language": "python", 
            "name": "python3-spark20", 
            "display_name": "Python 3.5 (Experimental) with Spark 2.0"
        }, 
        "language_info": {
            "version": "3.5.2", 
            "nbconvert_exporter": "python", 
            "mimetype": "text/x-python", 
            "name": "python", 
            "pygments_lexer": "ipython3", 
            "file_extension": ".py", 
            "codemirror_mode": {
                "version": 3, 
                "name": "ipython"
            }
        }
    }, 
    "nbformat": 4
}